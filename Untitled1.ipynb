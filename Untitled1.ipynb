{
 "cells": [
  {
   "cell_type": "code",
   "execution_count": 12,
   "metadata": {},
   "outputs": [],
   "source": [
    "# Import dependencies\n",
    "from flask import Flask, render_template, jsonify, request, redirect\n",
    "from routes import session, Samples, OTU, Samples_meta"
   ]
  },
  {
   "cell_type": "code",
   "execution_count": 13,
   "metadata": {},
   "outputs": [],
   "source": [
    "#################################################\n",
    "# Flask Setup\n",
    "#################################################\n",
    "\n",
    "app = Flask(__name__)"
   ]
  },
  {
   "cell_type": "code",
   "execution_count": 14,
   "metadata": {},
   "outputs": [],
   "source": [
    "#################################################\n",
    "# Routes\n",
    "#################################################"
   ]
  },
  {
   "cell_type": "code",
   "execution_count": 15,
   "metadata": {},
   "outputs": [],
   "source": [
    "# Main route\n",
    "@app.route('/')\n",
    "def home():\n",
    "    return render_template('index.html')"
   ]
  },
  {
   "cell_type": "code",
   "execution_count": 16,
   "metadata": {},
   "outputs": [],
   "source": [
    "# Names Route - return list of names\n",
    "@app.route('/names')\n",
    "def names():\n",
    "    sample_names = Samples.__table__.columns.keys()\n",
    "    del sample_names[0]\n",
    "    return jsonify(sample_names)"
   ]
  },
  {
   "cell_type": "code",
   "execution_count": 17,
   "metadata": {},
   "outputs": [],
   "source": [
    "# OTU route - return list of descriptions\n",
    "@app.route('/otu')\n",
    "def otu():\n",
    "    otu_desc = session.query(Samples_otu.lowest_taxonomic_unit_found).all()\n",
    "\n",
    "    otu_desc_list = []\n",
    "\n",
    "    for each in otu_query:\n",
    "        otu_desc_list.append(each[0])\n",
    "    return jsonify(otu_desc_list)"
   ]
  },
  {
   "cell_type": "code",
   "execution_count": 18,
   "metadata": {},
   "outputs": [],
   "source": [
    "# Sample_meta route - return a dictionary of metadata\n",
    "@app.route('/metadata/<sample>')\n",
    "def metadata(sample):\n",
    "    sample = sample.lstrip('BB_')\n",
    "    \n",
    "    meta_data = (session\n",
    "                .query(Sample_meta)\n",
    "                .filter(Sample_meta.SAMPLEID == sample))\n",
    "    \n",
    "    for result in meta_data:\n",
    "        metadata_dict = {\n",
    "            \"AGE\": result.AGE,\n",
    "            \"BBTYPE\": result.BBTYPE,\n",
    "            \"ETHNICITY\": result.ETHNICITY,\n",
    "            \"GENDER\": result.GENDER,\n",
    "            \"LOCATION\": result.LOCATION,\n",
    "            \"SAMPLEID\": result.SAMPLEID,\n",
    "        }\n",
    "        \n",
    "    return jsonify(metadata_dict)\n",
    "        "
   ]
  },
  {
   "cell_type": "code",
   "execution_count": 19,
   "metadata": {},
   "outputs": [],
   "source": [
    "# Wash Frequency Route - return a value as number\n",
    "@app.route('/wfreq/<sample>')\n",
    "def wfreq(sample):\n",
    "    sample = sample.lstrip('BB_')\n",
    "    \n",
    "    wfreq_query = (session\n",
    "                  .query(Sample_meta.WFREQ)\n",
    "                  .filter(Sample_meta.SAMPLEID == sample).all())\n",
    "    \n",
    "    wfreq_query_results = []\n",
    "    for result in results:\n",
    "        wfreq_results = {}\n",
    "        wfreq_results[sample] = int(result[0])\n",
    "        wfreq_query_results.append(wfreq_results)\n",
    "        \n",
    "    return jsonify(wfreq_results)"
   ]
  },
  {
   "cell_type": "code",
   "execution_count": 22,
   "metadata": {},
   "outputs": [],
   "source": [
    "# OTU ID/Values route - return dictionary of OTU ids and values(DESC order)\n",
    "@app.route('/samples/<sample>')\n",
    "def samples(sample):\n",
    "    \n",
    "    sample_query = session.query(Sample.otu_id, getattr(Sample, sample))\n",
    "    \n",
    "    sample_query = sorted(sample_query, key=lambda x: x[1], reverse=True)\n",
    "    \n",
    "    sample_dict = {\n",
    "        \"OTU_ids\": [otu[0] for otu in sample_query],\n",
    "        \"sample_values\": [otu[1] for otu in sample_query]\n",
    "    }\n",
    "    \n",
    "    return jsonify(sample_dict)"
   ]
  },
  {
   "cell_type": "code",
   "execution_count": 23,
   "metadata": {},
   "outputs": [
    {
     "name": "stderr",
     "output_type": "stream",
     "text": [
      " * Running on http://127.0.0.1:5000/ (Press CTRL+C to quit)\n",
      " * Restarting with stat\n"
     ]
    },
    {
     "ename": "SystemExit",
     "evalue": "1",
     "output_type": "error",
     "traceback": [
      "An exception has occurred, use %tb to see the full traceback.\n",
      "\u001b[0;31mSystemExit\u001b[0m\u001b[0;31m:\u001b[0m 1\n"
     ]
    },
    {
     "name": "stderr",
     "output_type": "stream",
     "text": [
      "/anaconda3/envs/flaskApp/lib/python3.6/site-packages/IPython/core/interactiveshell.py:2918: UserWarning: To exit: use 'exit', 'quit', or Ctrl-D.\n",
      "  warn(\"To exit: use 'exit', 'quit', or Ctrl-D.\", stacklevel=1)\n"
     ]
    }
   ],
   "source": [
    "if __name__ == \"__main__\":\n",
    "    app.run(debug=True)"
   ]
  },
  {
   "cell_type": "code",
   "execution_count": null,
   "metadata": {},
   "outputs": [],
   "source": []
  }
 ],
 "metadata": {
  "kernelspec": {
   "display_name": "Python 3",
   "language": "python",
   "name": "python3"
  },
  "language_info": {
   "codemirror_mode": {
    "name": "ipython",
    "version": 3
   },
   "file_extension": ".py",
   "mimetype": "text/x-python",
   "name": "python",
   "nbconvert_exporter": "python",
   "pygments_lexer": "ipython3",
   "version": "3.6.4"
  }
 },
 "nbformat": 4,
 "nbformat_minor": 2
}
